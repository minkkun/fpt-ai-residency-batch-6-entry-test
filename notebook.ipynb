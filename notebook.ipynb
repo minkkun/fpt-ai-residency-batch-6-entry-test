{
 "cells": [
  {
   "cell_type": "code",
   "execution_count": 1,
   "id": "initial_id",
   "metadata": {
    "ExecuteTime": {
     "end_time": "2025-03-28T21:06:14.423535Z",
     "start_time": "2025-03-28T21:06:14.405851Z"
    },
    "collapsed": true
   },
   "outputs": [],
   "source": [
    "import pandas as pd\n",
    "import torch\n",
    "from accelerate import Accelerator\n",
    "from datasets import Dataset\n",
    "import numpy as np"
   ]
  },
  {
   "cell_type": "code",
   "execution_count": 2,
   "id": "61f10d59",
   "metadata": {},
   "outputs": [
    {
     "name": "stdout",
     "output_type": "stream",
     "text": [
      "Using device: mps\n"
     ]
    }
   ],
   "source": [
    "# Optimizing by using GPU if available\n",
    "device = \"mps\" if torch.backends.mps.is_available() else \"cpu\"\n",
    "accelerator = Accelerator()\n",
    "print(f\"Using device: {device}\")"
   ]
  },
  {
   "cell_type": "code",
   "execution_count": 3,
   "id": "42b6405e740078c7",
   "metadata": {
    "ExecuteTime": {
     "end_time": "2025-03-28T21:06:14.471397Z",
     "start_time": "2025-03-28T21:06:14.425515Z"
    },
    "collapsed": false
   },
   "outputs": [],
   "source": [
    "df = pd.read_csv(\"./data/b6_train_data.csv\")\n",
    "# turn into a Python list for tokenization\n",
    "df[\"choices\"] = df['choices'].apply(eval)\n",
    "dataset = Dataset.from_pandas(df)\n",
    "\n",
    "\n",
    "test_df = pd.read_csv(\"./data/b6_test_data.csv\")\n",
    "test_df[\"choices\"] = test_df['choices'].apply(eval)\n",
    "fpttest_data = Dataset.from_pandas(test_df)"
   ]
  },
  {
   "cell_type": "code",
   "execution_count": 4,
   "id": "42dacc79",
   "metadata": {},
   "outputs": [],
   "source": [
    "def show_one(example):\n",
    "    print(f\"{example['question']}\")\n",
    "    for c in example['choices']:\n",
    "        print(f\" - {c}\")\n",
    "    print(f\" Correct answer: {example['answer']}\")"
   ]
  },
  {
   "cell_type": "code",
   "execution_count": 5,
   "id": "09409401",
   "metadata": {},
   "outputs": [
    {
     "name": "stderr",
     "output_type": "stream",
     "text": [
      "Some weights of BertForMultipleChoice were not initialized from the model checkpoint at bert-base-uncased and are newly initialized: ['classifier.bias', 'classifier.weight']\n",
      "You should probably TRAIN this model on a down-stream task to be able to use it for predictions and inference.\n"
     ]
    }
   ],
   "source": [
    "from transformers import AutoModelForMultipleChoice, AutoTokenizer\n",
    "model_name = \"bert-base-uncased\"\n",
    "tokenizer = AutoTokenizer.from_pretrained(model_name)\n",
    "model = AutoModelForMultipleChoice.from_pretrained(model_name).to(device)\n",
    "\n",
    "# Wrap with `accelerate`\n",
    "model = accelerator.prepare(model)"
   ]
  },
  {
   "cell_type": "code",
   "execution_count": 6,
   "id": "0e1102e0",
   "metadata": {},
   "outputs": [],
   "source": [
    "\n",
    "\n",
    "letter_to_number = {'A': 0, 'B': 1, 'C': 2, 'D': 3}\n",
    "\n",
    "\n",
    "def get_number(ans):\n",
    "    try:\n",
    "        last_word = ans.split()[-1]  # Get the last word\n",
    "        # Return mapped value or -1 if not found\n",
    "        return letter_to_number.get(last_word, -1)\n",
    "    except Exception as e:\n",
    "        print(f\"Error processing answer '{ans}': {e}\")\n",
    "        return -1  # Fallback value\n",
    "\n",
    "\n",
    "def preprocess(examples):\n",
    "    examples[\"choices\"] = [\n",
    "        choice if len(choice) > 0 else [\"Null\"]  # Ensure it's a list\n",
    "        for choice in examples[\"choices\"]\n",
    "    ]\n",
    "\n",
    "    # Number of choices per question\n",
    "    choice_lens = [len(inner_list) for inner_list in examples['choices']]\n",
    "\n",
    "    # Expand questions to match the number of choices\n",
    "    questions = [q for q_list in [[question] * n for question,\n",
    "                                  n in zip(examples['question'], choice_lens)] for q in q_list]\n",
    "    choices = sum(examples[\"choices\"], [])  # Flatten choices\n",
    "\n",
    "    # Convert labels\n",
    "    labels = np.array([get_number(label) for label in examples['answer']])\n",
    "\n",
    "    # Tokenize questions and choices as independent pairs\n",
    "    tokenized_examples = tokenizer(\n",
    "        list(zip(questions, choices)), truncation=True, padding=\"max_length\")\n",
    "\n",
    "    # print(tokenized_examples)\n",
    "\n",
    "    # Reshape data: Group every `n` choices together (for each question)\n",
    "    reshaped_dict = {k: [] for k in tokenized_examples.keys()}\n",
    "    start = 0\n",
    "    for n in choice_lens:\n",
    "        for k in tokenized_examples.keys():\n",
    "            reshaped_dict[k].append(tokenized_examples[k][start: start + n])\n",
    "        start += n\n",
    "    # Ensure labels match question structure\n",
    "    reshaped_dict['labels'] = labels\n",
    "\n",
    "    return reshaped_dict"
   ]
  },
  {
   "cell_type": "code",
   "execution_count": 7,
   "id": "c3ae4533",
   "metadata": {},
   "outputs": [
    {
     "data": {
      "application/vnd.jupyter.widget-view+json": {
       "model_id": "5c5903647c92466bb1ea9e473161ff88",
       "version_major": 2,
       "version_minor": 0
      },
      "text/plain": [
       "Map:   0%|          | 0/3963 [00:00<?, ? examples/s]"
      ]
     },
     "metadata": {},
     "output_type": "display_data"
    },
    {
     "name": "stdout",
     "output_type": "stream",
     "text": [
      "Error processing answer 'None': 'NoneType' object has no attribute 'split'\n",
      "Error processing answer 'None': 'NoneType' object has no attribute 'split'\n",
      "Error processing answer 'None': 'NoneType' object has no attribute 'split'\n",
      "Error processing answer 'None': 'NoneType' object has no attribute 'split'\n",
      "Error processing answer 'None': 'NoneType' object has no attribute 'split'\n",
      "Error processing answer 'None': 'NoneType' object has no attribute 'split'\n",
      "Error processing answer 'None': 'NoneType' object has no attribute 'split'\n",
      "Error processing answer 'None': 'NoneType' object has no attribute 'split'\n",
      "Error processing answer 'None': 'NoneType' object has no attribute 'split'\n",
      "Error processing answer 'None': 'NoneType' object has no attribute 'split'\n",
      "Error processing answer 'None': 'NoneType' object has no attribute 'split'\n",
      "Error processing answer 'None': 'NoneType' object has no attribute 'split'\n",
      "Error processing answer 'None': 'NoneType' object has no attribute 'split'\n",
      "Error processing answer 'None': 'NoneType' object has no attribute 'split'\n"
     ]
    }
   ],
   "source": [
    "idx = 0\n",
    "tokenized_data = dataset.map(\n",
    "    preprocess, batched=True, batch_size=8, load_from_cache_file=False)\n",
    "tokenized_data = tokenized_data.remove_columns(\n",
    "    [\"task_id\", \"question\", \"choices\", \"answer\"])  # Keep only tokenized features"
   ]
  },
  {
   "cell_type": "code",
   "execution_count": 8,
   "id": "ea1dec7f",
   "metadata": {},
   "outputs": [
    {
     "name": "stdout",
     "output_type": "stream",
     "text": [
      "question : what will be output of the following code? # include < stdio. h > int main ( ) { printf ( \" % d \\ t \", sizeof ( 6. 5 ) ) ; printf ( \" % d \\ t \", sizeof ( 90000 ) ) ; printf ( \" % d \", sizeof ( ' a ' ) ) ; return 0 ; } 8 4 2\n"
     ]
    }
   ],
   "source": [
    "decoded_text = tokenizer.decode(\n",
    "    tokenized_data[0][\"input_ids\"][0], skip_special_tokens=True)\n",
    "print(decoded_text)"
   ]
  },
  {
   "cell_type": "code",
   "execution_count": null,
   "id": "3e9cb2cb",
   "metadata": {},
   "outputs": [],
   "source": [
    "print(tokenized_data[:3])"
   ]
  },
  {
   "cell_type": "markdown",
   "id": "2949e4d4",
   "metadata": {},
   "source": []
  },
  {
   "cell_type": "code",
   "execution_count": 11,
   "id": "789f3ad5",
   "metadata": {},
   "outputs": [],
   "source": [
    "from transformers import DataCollatorForMultipleChoice\n",
    "\n",
    "data_collator = DataCollatorForMultipleChoice(tokenizer)"
   ]
  },
  {
   "cell_type": "code",
   "execution_count": 17,
   "id": "20833c71",
   "metadata": {},
   "outputs": [],
   "source": [
    "import os\n",
    "os.environ[\"PYTORCH_MPS_HIGH_WATERMARK_RATIO\"] = \"0.0\""
   ]
  },
  {
   "cell_type": "code",
   "execution_count": 18,
   "id": "aaf8208e",
   "metadata": {},
   "outputs": [
    {
     "data": {
      "text/html": [
       "\n",
       "    <div>\n",
       "      \n",
       "      <progress value='13' max='7930' style='width:300px; height:20px; vertical-align: middle;'></progress>\n",
       "      [  13/7930 08:02 < 96:24:21, 0.02 it/s, Epoch 0.02/10]\n",
       "    </div>\n",
       "    <table border=\"1\" class=\"dataframe\">\n",
       "  <thead>\n",
       " <tr style=\"text-align: left;\">\n",
       "      <th>Epoch</th>\n",
       "      <th>Training Loss</th>\n",
       "      <th>Validation Loss</th>\n",
       "    </tr>\n",
       "  </thead>\n",
       "  <tbody>\n",
       "  </tbody>\n",
       "</table><p>"
      ],
      "text/plain": [
       "<IPython.core.display.HTML object>"
      ]
     },
     "metadata": {},
     "output_type": "display_data"
    }
   ],
   "source": [
    "from transformers import TrainingArguments, Trainer, EarlyStoppingCallback\n",
    "# Split your dataset into train and evaluation sets\n",
    "\n",
    "train_test_split = tokenized_data.train_test_split(test_size=0.2, seed=42)\n",
    "train_dataset = train_test_split[\"train\"]\n",
    "eval_dataset = train_test_split[\"test\"]\n",
    "\n",
    "torch.mps.empty_cache()\n",
    "\n",
    "# Define training arguments\n",
    "training_args = TrainingArguments(\n",
    "    output_dir=\"./mcq_model\",\n",
    "    evaluation_strategy=\"epoch\",\n",
    "    per_device_train_batch_size=4,  # Adjust based on GPU memory\n",
    "    per_device_eval_batch_size=4,\n",
    "    num_train_epochs=10,  # Set higher than needed, early stopping will handle it\n",
    "    save_strategy=\"epoch\",\n",
    "    logging_dir=\"./logs\",\n",
    "    load_best_model_at_end=True,\n",
    "    metric_for_best_model=\"accuracy\",\n",
    "    greater_is_better=True,  # For accuracy, higher is better\n",
    ")\n",
    "\n",
    "# Initialize Trainer\n",
    "trainer = Trainer(\n",
    "    model=model,\n",
    "    args=training_args,\n",
    "    train_dataset=train_dataset,\n",
    "    eval_dataset=eval_dataset,\n",
    "    callbacks=[EarlyStoppingCallback(early_stopping_patience=3)]\n",
    ")\n",
    "\n",
    "# Start training\n",
    "trainer.train()\n",
    "\n",
    "# Save the fine-tuned model\n",
    "model.save_pretrained(\"./fine_tuned_model\")"
   ]
  }
 ],
 "metadata": {
  "kernelspec": {
   "display_name": "Python 3",
   "language": "python",
   "name": "python3"
  },
  "language_info": {
   "codemirror_mode": {
    "name": "ipython",
    "version": 3
   },
   "file_extension": ".py",
   "mimetype": "text/x-python",
   "name": "python",
   "nbconvert_exporter": "python",
   "pygments_lexer": "ipython3",
   "version": "3.11.5"
  }
 },
 "nbformat": 4,
 "nbformat_minor": 5
}
