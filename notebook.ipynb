{
 "cells": [
  {
   "cell_type": "code",
   "execution_count": 26,
   "id": "initial_id",
   "metadata": {
    "ExecuteTime": {
     "end_time": "2025-03-28T21:06:14.423535Z",
     "start_time": "2025-03-28T21:06:14.405851Z"
    },
    "collapsed": true
   },
   "outputs": [],
   "source": [
    "import pandas as pd\n",
    "import torch\n",
    "from accelerate import Accelerator\n",
    "from datasets import Dataset\n",
    "import numpy as np"
   ]
  },
  {
   "cell_type": "code",
   "execution_count": 27,
   "id": "61f10d59",
   "metadata": {},
   "outputs": [
    {
     "name": "stdout",
     "output_type": "stream",
     "text": [
      "Using device: mps\n"
     ]
    }
   ],
   "source": [
    "# Optimizing by using GPU if available\n",
    "device = \"mps\" if torch.backends.mps.is_available() else \"cpu\"\n",
    "accelerator = Accelerator()\n",
    "print(f\"Using device: {device}\")"
   ]
  },
  {
   "cell_type": "code",
   "execution_count": 28,
   "id": "42b6405e740078c7",
   "metadata": {
    "ExecuteTime": {
     "end_time": "2025-03-28T21:06:14.471397Z",
     "start_time": "2025-03-28T21:06:14.425515Z"
    },
    "collapsed": false
   },
   "outputs": [],
   "source": [
    "df = pd.read_csv(\"./data/b6_train_data.csv\")\n",
    "# turn into a Python list for tokenization\n",
    "df[\"choices\"] = df['choices'].apply(eval)\n",
    "dataset = Dataset.from_pandas(df)\n",
    "\n",
    "\n",
    "test_df = pd.read_csv(\"./data/b6_test_data.csv\")\n",
    "test_df[\"choices\"] = test_df['choices'].apply(eval)\n",
    "fpttest_data = Dataset.from_pandas(test_df)"
   ]
  },
  {
   "cell_type": "code",
   "execution_count": 29,
   "id": "42dacc79",
   "metadata": {},
   "outputs": [],
   "source": [
    "def show_one(example):\n",
    "    print(f\"{example['question']}\")\n",
    "    for c in example['choices']:\n",
    "        print(f\" - {c}\")\n",
    "    print(f\" Correct answer: {example['answer']}\")"
   ]
  },
  {
   "cell_type": "code",
   "execution_count": 30,
   "id": "09409401",
   "metadata": {},
   "outputs": [
    {
     "name": "stderr",
     "output_type": "stream",
     "text": [
      "Some weights of BertForMultipleChoice were not initialized from the model checkpoint at google-bert/bert-base-uncased and are newly initialized: ['classifier.bias', 'classifier.weight']\n",
      "You should probably TRAIN this model on a down-stream task to be able to use it for predictions and inference.\n"
     ]
    }
   ],
   "source": [
    "from transformers import AutoModelForMultipleChoice, AutoTokenizer\n",
    "model_name = \"google-bert/bert-base-uncased\"\n",
    "tokenizer = AutoTokenizer.from_pretrained(model_name)\n",
    "model = AutoModelForMultipleChoice.from_pretrained(model_name).to(device)\n",
    "\n",
    "# Wrap with `accelerate`\n",
    "model = accelerator.prepare(model)"
   ]
  },
  {
   "cell_type": "code",
   "execution_count": 31,
   "id": "0e1102e0",
   "metadata": {},
   "outputs": [],
   "source": [
    "letter_to_number = {'A': 0, 'B': 1, 'C': 2, 'D': 3}\n",
    "\n",
    "\n",
    "def get_number(ans):\n",
    "    try:\n",
    "        last_word = ans.split()[-1]  # Get the last word\n",
    "        # Return mapped value or -1 if not found\n",
    "        return letter_to_number.get(last_word, -1)\n",
    "    except Exception as e:\n",
    "        print(f\"Error processing answer '{ans}': {e}\")\n",
    "        return -1  # Fallback value\n",
    "\n",
    "\n",
    "def preprocess(examples):\n",
    "    # Ensure choices are lists and pad to 4 choices\n",
    "    examples[\"choices\"] = [\n",
    "        choice + [\"\"] * (4 - len(choice)) if len(choice) < 4 else choice[:4]\n",
    "        for choice in examples[\"choices\"]\n",
    "    ]\n",
    "\n",
    "    # Number of choices per question (always 4 now)\n",
    "    choice_lens = [4] * len(examples[\"choices\"])\n",
    "\n",
    "    # Expand questions to match the number of choices (4 per question)\n",
    "    questions = [q for q_list in [[question] *\n",
    "                                  4 for question in examples['question']] for q in q_list]\n",
    "    choices = sum(examples[\"choices\"], [])  # Flatten choices\n",
    "\n",
    "    # Convert labels\n",
    "    labels = [get_number(label) for label in examples['answer']]\n",
    "\n",
    "    # Tokenize questions and choices as independent pairs\n",
    "    tokenized_examples = tokenizer(\n",
    "        list(zip(questions, choices)), truncation=True, padding=\"max_length\"\n",
    "    )\n",
    "\n",
    "    # Reshape data: Group every 4 choices together (for each question)\n",
    "    reshaped_dict = {k: [] for k in tokenized_examples.keys()}\n",
    "    start = 0\n",
    "    for _ in range(len(examples[\"question\"])):  # Iterate per question\n",
    "        for k in tokenized_examples.keys():\n",
    "            reshaped_dict[k].append(tokenized_examples[k][start: start + 4])\n",
    "        start += 4\n",
    "\n",
    "    # Ensure labels match the 4-choice structure\n",
    "    reshaped_dict['labels'] = labels\n",
    "\n",
    "    return reshaped_dict"
   ]
  },
  {
   "cell_type": "code",
   "execution_count": 32,
   "id": "c3ae4533",
   "metadata": {},
   "outputs": [
    {
     "data": {
      "application/vnd.jupyter.widget-view+json": {
       "model_id": "767eecb00b2247ceb29a5d9668775495",
       "version_major": 2,
       "version_minor": 0
      },
      "text/plain": [
       "Map:   0%|          | 0/3963 [00:00<?, ? examples/s]"
      ]
     },
     "metadata": {},
     "output_type": "display_data"
    },
    {
     "name": "stdout",
     "output_type": "stream",
     "text": [
      "Error processing answer 'None': 'NoneType' object has no attribute 'split'\n",
      "Error processing answer 'None': 'NoneType' object has no attribute 'split'\n",
      "Error processing answer 'None': 'NoneType' object has no attribute 'split'\n",
      "Error processing answer 'None': 'NoneType' object has no attribute 'split'\n",
      "Error processing answer 'None': 'NoneType' object has no attribute 'split'\n",
      "Error processing answer 'None': 'NoneType' object has no attribute 'split'\n",
      "Error processing answer 'None': 'NoneType' object has no attribute 'split'\n",
      "Error processing answer 'None': 'NoneType' object has no attribute 'split'\n",
      "Error processing answer 'None': 'NoneType' object has no attribute 'split'\n",
      "Error processing answer 'None': 'NoneType' object has no attribute 'split'\n",
      "Error processing answer 'None': 'NoneType' object has no attribute 'split'\n",
      "Error processing answer 'None': 'NoneType' object has no attribute 'split'\n",
      "Error processing answer 'None': 'NoneType' object has no attribute 'split'\n",
      "Error processing answer 'None': 'NoneType' object has no attribute 'split'\n"
     ]
    }
   ],
   "source": [
    "idx = 0\n",
    "tokenized_data = dataset.map(\n",
    "    preprocess, batched=True, batch_size=8, load_from_cache_file=False)"
   ]
  },
  {
   "cell_type": "code",
   "execution_count": 33,
   "id": "1aec8e8f",
   "metadata": {},
   "outputs": [],
   "source": [
    "# tokenized_data = tokenized_data.remove_columns(\n",
    "#     [\"task_id\", \"question\", \"choices\", \"answer\"])  # Keep only tokenized features"
   ]
  },
  {
   "cell_type": "code",
   "execution_count": 34,
   "id": "ea1dec7f",
   "metadata": {},
   "outputs": [
    {
     "name": "stdout",
     "output_type": "stream",
     "text": [
      "question : what value does the variable z have after all of the code above executes? int x ; int y ; int z ; x = 3 ; y = 4 ; z = + + x * y + + ; 9\n"
     ]
    }
   ],
   "source": [
    "decoded_text = tokenizer.decode(\n",
    "    tokenized_data[9][\"input_ids\"][0], skip_special_tokens=True)\n",
    "print(decoded_text)"
   ]
  },
  {
   "cell_type": "markdown",
   "id": "2949e4d4",
   "metadata": {},
   "source": []
  },
  {
   "cell_type": "code",
   "execution_count": 36,
   "id": "5d7a00f2",
   "metadata": {},
   "outputs": [
    {
     "name": "stdout",
     "output_type": "stream",
     "text": [
      "input_ids shape: torch.Size([4, 512])\n"
     ]
    }
   ],
   "source": [
    "for example in tokenized_data:\n",
    "    print(\"input_ids shape:\", torch.tensor(example[\"input_ids\"]).shape)\n",
    "    break"
   ]
  },
  {
   "cell_type": "code",
   "execution_count": 37,
   "id": "504cec07",
   "metadata": {},
   "outputs": [],
   "source": [
    "from transformers import DataCollatorForMultipleChoice\n",
    "from torch.utils.data import DataLoader\n",
    "\n",
    "\n",
    "# Initialize collator\n",
    "data_collator = DataCollatorForMultipleChoice(tokenizer=tokenizer)\n",
    "\n",
    "# # Create DataLoader with collator\n",
    "# dataloader = DataLoader(tokenized_data, batch_size=8,\n",
    "#                         shuffle=True, collate_fn=data_collator)\n",
    "\n",
    "# # Fetch a batch\n",
    "# batch = next(iter(dataloader))\n",
    "\n",
    "# # Now check shape\n",
    "# # Should be (batch_size, num_choices, seq_length)\n",
    "# print(batch['input_ids'].shape)"
   ]
  },
  {
   "cell_type": "code",
   "execution_count": 38,
   "id": "25f89f2e",
   "metadata": {},
   "outputs": [],
   "source": [
    "from transformers import TrainingArguments, Trainer, EarlyStoppingCallback\n",
    "# Split your dataset into train and evaluation sets\n",
    "\n",
    "train_test_split = tokenized_data.train_test_split(test_size=0.2, seed=42)\n",
    "train_dataset = train_test_split[\"train\"]\n",
    "eval_dataset = train_test_split[\"test\"]\n",
    "\n",
    "torch.mps.empty_cache()"
   ]
  },
  {
   "cell_type": "code",
   "execution_count": 39,
   "id": "4eabdfe6",
   "metadata": {},
   "outputs": [
    {
     "name": "stdout",
     "output_type": "stream",
     "text": [
      "🚨 Found example with label -1 at index 147: \n",
      "🚨 Found example with label -1 at index 524: \n",
      "🚨 Found example with label -1 at index 607: \n",
      "🚨 Found example with label -1 at index 647: \n",
      "🚨 Found example with label -1 at index 748: \n",
      "🚨 Found example with label -1 at index 765: \n",
      "🚨 Found example with label -1 at index 1013: \n",
      "🚨 Found example with label -1 at index 1085: \n",
      "🚨 Found example with label -1 at index 1115: \n",
      "🚨 Found example with label -1 at index 1139: \n",
      "🚨 Found example with label -1 at index 1486: \n",
      "🚨 Found example with label -1 at index 1640: \n",
      "🚨 Found example with label -1 at index 1885: \n",
      "🚨 Found example with label -1 at index 2158: \n",
      "🚨 Found example with label -1 at index 2220: \n",
      "🚨 Found example with label -1 at index 2522: \n",
      "🚨 Found example with label -1 at index 2891: \n",
      "🚨 Found example with label -1 at index 2897: \n"
     ]
    }
   ],
   "source": [
    "for idx, example in enumerate(train_dataset):\n",
    "    if example[\"labels\"] == -1:\n",
    "        print(f\"🚨 Found example with label -1 at index {idx}: \")"
   ]
  },
  {
   "cell_type": "code",
   "execution_count": 40,
   "id": "9bbde189",
   "metadata": {},
   "outputs": [
    {
     "data": {
      "application/vnd.jupyter.widget-view+json": {
       "model_id": "4cb203d6160e47008624faffdd435cb0",
       "version_major": 2,
       "version_minor": 0
      },
      "text/plain": [
       "Filter:   0%|          | 0/3170 [00:00<?, ? examples/s]"
      ]
     },
     "metadata": {},
     "output_type": "display_data"
    },
    {
     "data": {
      "application/vnd.jupyter.widget-view+json": {
       "model_id": "726af0765c1e484991279e0da3c04172",
       "version_major": 2,
       "version_minor": 0
      },
      "text/plain": [
       "Filter:   0%|          | 0/793 [00:00<?, ? examples/s]"
      ]
     },
     "metadata": {},
     "output_type": "display_data"
    }
   ],
   "source": [
    "train_dataset = train_dataset.filter(lambda example: example[\"labels\"] != -1)\n",
    "eval_dataset = eval_dataset.filter(lambda example: example[\"labels\"] != -1)"
   ]
  },
  {
   "cell_type": "code",
   "execution_count": 42,
   "id": "7645d244",
   "metadata": {},
   "outputs": [],
   "source": [
    "\n",
    "class DebugDataCollatorForMultipleChoice(DataCollatorForMultipleChoice):\n",
    "    def torch_call(self, examples):\n",
    "        try:\n",
    "            num_choices = len(examples[0][\"input_ids\"])\n",
    "            print(f\"Processing batch with {num_choices} choices\")\n",
    "            # if flag:\n",
    "            #     print(f\"Normal examples: {examples}\")  # Prints full batch\n",
    "            # flag = False\n",
    "            return super().torch_call(examples)\n",
    "        except Exception as e:\n",
    "            print(\"\\n🚨 ERROR in DataCollatorForMultipleChoice 🚨\")\n",
    "            print(f\"Problematic examples: {examples}\")  # Prints full batch\n",
    "            raise e  # Re-raise the exception for debugging\n",
    "\n",
    "\n",
    "# Use the custom collator in Trainer\n",
    "data_collator = DebugDataCollatorForMultipleChoice(tokenizer)"
   ]
  },
  {
   "cell_type": "code",
   "execution_count": 45,
   "id": "20833c71",
   "metadata": {},
   "outputs": [],
   "source": [
    "import os\n",
    "os.environ[\"PYTORCH_MPS_HIGH_WATERMARK_RATIO\"] = \"0.0\""
   ]
  },
  {
   "cell_type": "code",
   "execution_count": 43,
   "id": "aaf8208e",
   "metadata": {},
   "outputs": [],
   "source": [
    "torch.mps.empty_cache()\n",
    "\n",
    "# Define training arguments\n",
    "training_args = TrainingArguments(\n",
    "    output_dir=\"./mcq_model\",\n",
    "    eval_strategy=\"epoch\",\n",
    "    per_device_train_batch_size=4,  # Keep batch size low to avoid OOM\n",
    "    per_device_eval_batch_size=4,\n",
    "    num_train_epochs=10,  # Early stopping will handle if too high\n",
    "    save_strategy=\"epoch\",\n",
    "    logging_dir=\"./logs\",\n",
    "    load_best_model_at_end=True,\n",
    "    metric_for_best_model=\"accuracy\",\n",
    "    greater_is_better=True,  # Higher accuracy is better\n",
    "    warmup_steps=50,  # Reduce warmup to prevent high initial memory usage\n",
    "    weight_decay=0.01,  # Standard regularization\n",
    "    logging_steps=10,\n",
    "    optim=\"adamw_torch\",  # More stable than 8-bit optimizers on MPS\n",
    "    gradient_accumulation_steps=2,  # Helps with low batch sizes\n",
    "    torch_compile=False,  # Torch compile is unstable on MPS, disable it\n",
    ")\n",
    "\n",
    "\n",
    "# Initialize Trainer\n",
    "trainer = Trainer(\n",
    "    model=model,\n",
    "    args=training_args,\n",
    "    train_dataset=train_dataset,\n",
    "    data_collator=data_collator,\n",
    "    eval_dataset=eval_dataset,\n",
    "    callbacks=[EarlyStoppingCallback(early_stopping_patience=3)]\n",
    ")"
   ]
  },
  {
   "cell_type": "code",
   "execution_count": 46,
   "id": "8f2bb1e4",
   "metadata": {},
   "outputs": [
    {
     "name": "stdout",
     "output_type": "stream",
     "text": [
      "Processing batch with 4 choices\n",
      "Processing batch with 4 choices\n",
      "Processing batch with 4 choices\n"
     ]
    }
   ],
   "source": [
    "# Start training\n",
    "trainer.train()\n",
    "\n",
    "# Save the fine-tuned model\n",
    "model.save_pretrained(\"./fine_tuned_model\")"
   ]
  }
 ],
 "metadata": {
  "kernelspec": {
   "display_name": "Python 3",
   "language": "python",
   "name": "python3"
  },
  "language_info": {
   "codemirror_mode": {
    "name": "ipython",
    "version": 3
   },
   "file_extension": ".py",
   "mimetype": "text/x-python",
   "name": "python",
   "nbconvert_exporter": "python",
   "pygments_lexer": "ipython3",
   "version": "3.11.5"
  }
 },
 "nbformat": 4,
 "nbformat_minor": 5
}
